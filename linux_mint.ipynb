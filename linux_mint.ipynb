{
  "nbformat": 4,
  "nbformat_minor": 0,
  "metadata": {
    "colab": {
      "name": "linux mint",
      "provenance": [],
      "collapsed_sections": []
    },
    "kernelspec": {
      "name": "python3",
      "display_name": "Python 3"
    },
    "language_info": {
      "name": "python"
    },
    "accelerator": "GPU"
  },
  "cells": [
    {
      "cell_type": "code",
      "source": [
        "#linux mint\n",
        "!wget https://raw.githubusercontent.com/epikziom39/free-rdp-linux-mint-google-colab-/main/mint.sh && chmod +x mint.sh && ./mint.sh"
      ],
      "metadata": {
        "id": "rl2xd5YJb4I8"
      },
      "execution_count": null,
      "outputs": []
    }
  ]
}